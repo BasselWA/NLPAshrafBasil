{
  "cells": [
    {
      "cell_type": "markdown",
      "metadata": {
        "id": "view-in-github",
        "colab_type": "text"
      },
      "source": [
        "<a href=\"https://colab.research.google.com/github/BasselWA/NLPAshrafBasil/blob/main/m3Final.ipynb\" target=\"_parent\"><img src=\"https://colab.research.google.com/assets/colab-badge.svg\" alt=\"Open In Colab\"/></a>"
      ]
    },
    {
      "cell_type": "code",
      "execution_count": null,
      "metadata": {
        "editable": false,
        "id": "CQOBz0FFCQy3",
        "papermill": {
          "duration": 45.428453,
          "end_time": "2021-03-29T07:16:28.130072",
          "exception": false,
          "start_time": "2021-03-29T07:15:42.701619",
          "status": "completed"
        },
        "tags": [],
        "outputId": "fa4f7a7b-57b8-48a7-b48a-c9d92a31a717"
      },
      "outputs": [
        {
          "name": "stderr",
          "output_type": "stream",
          "text": [
            "\n",
            "[notice] A new release of pip is available: 23.2.1 -> 24.0\n",
            "[notice] To update, run: python.exe -m pip install --upgrade pip\n",
            "\n",
            "[notice] A new release of pip is available: 23.2.1 -> 24.0\n",
            "[notice] To update, run: python.exe -m pip install --upgrade pip\n",
            "\n",
            "[notice] A new release of pip is available: 23.2.1 -> 24.0\n",
            "[notice] To update, run: python.exe -m pip install --upgrade pip\n"
          ]
        }
      ],
      "source": [
        "!pip install -q sumeval==0.2.2\n",
        "!pip install -q nlpaug==1.1.3\n",
        "!pip install -q simpletransformers==0.60.9"
      ]
    },
    {
      "cell_type": "code",
      "execution_count": null,
      "metadata": {
        "id": "bhtUGoWAb7QP",
        "outputId": "6fee54c5-6550-4ec4-8ffc-2d715d5f4127"
      },
      "outputs": [
        {
          "name": "stdout",
          "output_type": "stream",
          "text": [
            "Requirement already satisfied: nltk in d:\\semester 10\\nlp\\project\\newnlproj\\nlp\\lib\\site-packages (3.8.1)\n",
            "Requirement already satisfied: click in d:\\semester 10\\nlp\\project\\newnlproj\\nlp\\lib\\site-packages (from nltk) (8.1.7)\n",
            "Requirement already satisfied: joblib in d:\\semester 10\\nlp\\project\\newnlproj\\nlp\\lib\\site-packages (from nltk) (1.4.0)\n",
            "Requirement already satisfied: regex>=2021.8.3 in d:\\semester 10\\nlp\\project\\newnlproj\\nlp\\lib\\site-packages (from nltk) (2021.11.10)\n",
            "Requirement already satisfied: tqdm in d:\\semester 10\\nlp\\project\\newnlproj\\nlp\\lib\\site-packages (from nltk) (4.66.2)\n",
            "Requirement already satisfied: colorama in d:\\semester 10\\nlp\\project\\newnlproj\\nlp\\lib\\site-packages (from click->nltk) (0.4.6)\n"
          ]
        },
        {
          "name": "stderr",
          "output_type": "stream",
          "text": [
            "\n",
            "[notice] A new release of pip is available: 23.2.1 -> 24.0\n",
            "[notice] To update, run: python.exe -m pip install --upgrade pip\n"
          ]
        }
      ],
      "source": [
        "!pip install nltk"
      ]
    },
    {
      "cell_type": "markdown",
      "metadata": {
        "editable": false,
        "id": "Meo9qSNNCQy3",
        "papermill": {
          "duration": 0.013552,
          "end_time": "2021-03-29T07:16:28.158027",
          "exception": false,
          "start_time": "2021-03-29T07:16:28.144475",
          "status": "completed"
        },
        "tags": []
      },
      "source": [
        "## Import libraries <a class=\"anchor\" id=\"Import-libraries\"></a>"
      ]
    },
    {
      "cell_type": "code",
      "execution_count": null,
      "metadata": {
        "colab": {
          "base_uri": "https://localhost:8080/"
        },
        "editable": false,
        "execution": {
          "iopub.execute_input": "2021-03-29T07:16:28.19324Z",
          "iopub.status.busy": "2021-03-29T07:16:28.192451Z",
          "iopub.status.idle": "2021-03-29T07:16:33.651298Z",
          "shell.execute_reply": "2021-03-29T07:16:33.650431Z"
        },
        "id": "NhEdbz16CQy3",
        "outputId": "711fd2a9-9b92-4805-84fe-8b920512325c",
        "papermill": {
          "duration": 5.479625,
          "end_time": "2021-03-29T07:16:33.651429",
          "exception": false,
          "start_time": "2021-03-29T07:16:28.171804",
          "status": "completed"
        },
        "tags": []
      },
      "outputs": [
        {
          "name": "stderr",
          "output_type": "stream",
          "text": [
            "d:\\Semester 10\\NLP\\project\\newnlproj\\nlp\\lib\\site-packages\\tqdm\\auto.py:21: TqdmWarning: IProgress not found. Please update jupyter and ipywidgets. See https://ipywidgets.readthedocs.io/en/stable/user_install.html\n",
            "  from .autonotebook import tqdm as notebook_tqdm\n"
          ]
        },
        {
          "name": "stdout",
          "output_type": "stream",
          "text": [
            "Pytorch version: 2.3.0+cpu\n"
          ]
        }
      ],
      "source": [
        "import gc\n",
        "import random\n",
        "import warnings\n",
        "import numpy as np\n",
        "import pandas as pd\n",
        "import matplotlib.pyplot as plt\n",
        "from sklearn.model_selection import train_test_split\n",
        "\n",
        "import nlpaug.augmenter.word as naw\n",
        "from sumeval.metrics.rouge import RougeCalculator\n",
        "\n",
        "import torch\n",
        "from simpletransformers.t5 import T5Model, T5Args\n",
        "\n",
        "print('Pytorch version: %s'  % torch.__version__)"
      ]
    },
    {
      "cell_type": "code",
      "execution_count": null,
      "metadata": {
        "id": "4aiRtkq8CqLO"
      },
      "outputs": [],
      "source": [
        "import pandas as pd\n",
        "\n",
        "# Replace 'your_file.csv' with the actual name of your CSV file\n",
        "file_path = \"email_thread_details.csv\"\n",
        "\n",
        "# Read the CSV file into a DataFrame\n",
        "email_threads_details = pd.read_csv(file_path)\n",
        "\n",
        "# Replace 'your_file.csv' with the actual name of your CSV file\n",
        "file_path = \"email_thread_summaries.csv\"\n",
        "\n",
        "# Read the CSV file into a DataFrame\n",
        "email_threads_summaries = pd.read_csv(file_path)\n",
        "email_threads_details['timestamp'] = pd.to_datetime(email_threads_details['timestamp'])\n",
        "import re\n",
        "from nltk.corpus import stopwords\n",
        "from nltk.tokenize import word_tokenize\n",
        "from nltk.stem import WordNetLemmatizer\n",
        "\n",
        "# Merge the two datasets on 'thread_id'\n",
        "email_data = pd.merge(email_threads_details, email_threads_summaries, on='thread_id', how='inner')\n",
        "\n",
        "# Group emails by thread_id and concatenate the bodies\n",
        "email_data_grouped = email_data.groupby('thread_id').agg({'body': ' '.join, 'summary': 'first'}).reset_index()\n",
        "\n",
        "# Preprocess the data\n",
        "# Remove any rows with missing values\n",
        "email_data_grouped.dropna(inplace=True)\n",
        "\n",
        "# Convert 'body' and 'summary' columns to lowercase\n",
        "email_data_grouped['body'] = email_data_grouped['body'].str.lower()\n",
        "email_data_grouped['summary'] = email_data_grouped['summary'].str.lower()\n"
      ]
    },
    {
      "cell_type": "code",
      "execution_count": null,
      "metadata": {
        "editable": false,
        "execution": {
          "iopub.execute_input": "2021-03-29T07:16:34.083922Z",
          "iopub.status.busy": "2021-03-29T07:16:34.083449Z",
          "iopub.status.idle": "2021-03-29T07:16:35.398439Z",
          "shell.execute_reply": "2021-03-29T07:16:35.39752Z"
        },
        "id": "ec-nYD5eCQy4",
        "papermill": {
          "duration": 1.333987,
          "end_time": "2021-03-29T07:16:35.398588",
          "exception": false,
          "start_time": "2021-03-29T07:16:34.064601",
          "status": "completed"
        },
        "tags": []
      },
      "outputs": [],
      "source": [
        "df = email_data_grouped.dropna().reset_index(drop=True)"
      ]
    },
    {
      "cell_type": "markdown",
      "metadata": {
        "editable": false,
        "id": "GK67C_qECQy5",
        "papermill": {
          "duration": 0.01474,
          "end_time": "2021-03-29T07:16:35.428734",
          "exception": false,
          "start_time": "2021-03-29T07:16:35.413994",
          "status": "completed"
        },
        "tags": []
      },
      "source": [
        "## EDA <a class=\"anchor\" id=\"EDA\"></a>"
      ]
    },
    {
      "cell_type": "code",
      "execution_count": null,
      "metadata": {
        "colab": {
          "base_uri": "https://localhost:8080/",
          "height": 792
        },
        "editable": false,
        "execution": {
          "iopub.execute_input": "2021-03-29T07:16:35.47463Z",
          "iopub.status.busy": "2021-03-29T07:16:35.467034Z",
          "iopub.status.idle": "2021-03-29T07:16:35.4888Z",
          "shell.execute_reply": "2021-03-29T07:16:35.489215Z"
        },
        "id": "snJOAchpCQy5",
        "outputId": "47ff99f6-8335-4289-aec4-0020a8b817b0",
        "papermill": {
          "duration": 0.04567,
          "end_time": "2021-03-29T07:16:35.489346",
          "exception": false,
          "start_time": "2021-03-29T07:16:35.443676",
          "status": "completed"
        },
        "tags": []
      },
      "outputs": [
        {
          "data": {
            "text/html": [
              "<div>\n",
              "<style scoped>\n",
              "    .dataframe tbody tr th:only-of-type {\n",
              "        vertical-align: middle;\n",
              "    }\n",
              "\n",
              "    .dataframe tbody tr th {\n",
              "        vertical-align: top;\n",
              "    }\n",
              "\n",
              "    .dataframe thead th {\n",
              "        text-align: right;\n",
              "    }\n",
              "</style>\n",
              "<table border=\"1\" class=\"dataframe\">\n",
              "  <thead>\n",
              "    <tr style=\"text-align: right;\">\n",
              "      <th></th>\n",
              "      <th>thread_id</th>\n",
              "      <th>body</th>\n",
              "      <th>summary</th>\n",
              "    </tr>\n",
              "  </thead>\n",
              "  <tbody>\n",
              "    <tr>\n",
              "      <th>0</th>\n",
              "      <td>1</td>\n",
              "      <td>\\n\\n -----original message-----\\nfrom: =09ther...</td>\n",
              "      <td>the email thread discusses the master terminat...</td>\n",
              "    </tr>\n",
              "  </tbody>\n",
              "</table>\n",
              "</div>"
            ],
            "text/plain": [
              "   thread_id                                               body  \\\n",
              "0          1  \\n\\n -----original message-----\\nfrom: =09ther...   \n",
              "\n",
              "                                             summary  \n",
              "0  the email thread discusses the master terminat...  "
            ]
          },
          "metadata": {},
          "output_type": "display_data"
        }
      ],
      "source": [
        "display(df.head(1))"
      ]
    },
    {
      "cell_type": "code",
      "execution_count": null,
      "metadata": {
        "editable": false,
        "execution": {
          "iopub.execute_input": "2021-03-29T07:16:37.24729Z",
          "iopub.status.busy": "2021-03-29T07:16:37.246546Z",
          "iopub.status.idle": "2021-03-29T07:16:37.264591Z",
          "shell.execute_reply": "2021-03-29T07:16:37.264173Z"
        },
        "id": "Oj3JsKj2CQy6",
        "papermill": {
          "duration": 0.039927,
          "end_time": "2021-03-29T07:16:37.264706",
          "exception": false,
          "start_time": "2021-03-29T07:16:37.224779",
          "status": "completed"
        },
        "tags": []
      },
      "outputs": [],
      "source": [
        "df = df.drop(['thread_id'], axis=1)"
      ]
    },
    {
      "cell_type": "code",
      "execution_count": null,
      "metadata": {
        "editable": false,
        "execution": {
          "iopub.execute_input": "2021-03-29T07:17:23.198457Z",
          "iopub.status.busy": "2021-03-29T07:17:23.197659Z",
          "iopub.status.idle": "2021-03-29T07:17:23.234875Z",
          "shell.execute_reply": "2021-03-29T07:17:23.234426Z"
        },
        "id": "5KTiB9BBCQy7",
        "papermill": {
          "duration": 0.08269,
          "end_time": "2021-03-29T07:17:23.235002",
          "exception": false,
          "start_time": "2021-03-29T07:17:23.152312",
          "status": "completed"
        },
        "tags": []
      },
      "outputs": [],
      "source": [
        "df = df.rename(columns={'body': 'input_text', 'summary': 'target_text'}).reindex(columns=['input_text', 'target_text'])\n",
        "df['prefix'] = ''\n",
        "\n",
        "train, test = train_test_split(df, test_size=0.2, random_state=42)\n",
        "train, valid = train_test_split(train, test_size=0.2, random_state=42)"
      ]
    },
    {
      "cell_type": "markdown",
      "metadata": {
        "editable": false,
        "id": "49-hYmYVCQy7",
        "papermill": {
          "duration": 0.042316,
          "end_time": "2021-03-29T07:21:58.168803",
          "exception": false,
          "start_time": "2021-03-29T07:21:58.126487",
          "status": "completed"
        },
        "tags": []
      },
      "source": [
        "## Build the model <a class=\"anchor\" id=\"Build-the-model\"></a>"
      ]
    },
    {
      "cell_type": "markdown",
      "metadata": {
        "editable": false,
        "id": "uZdD4sO0CQy7",
        "papermill": {
          "duration": 0.042789,
          "end_time": "2021-03-29T07:21:58.254428",
          "exception": false,
          "start_time": "2021-03-29T07:21:58.211639",
          "status": "completed"
        },
        "tags": []
      },
      "source": [
        "### Training"
      ]
    },
    {
      "cell_type": "code",
      "execution_count": null,
      "metadata": {
        "id": "WcDlCTmVb7QV"
      },
      "outputs": [],
      "source": [
        "cuda =  torch.cuda.is_available()"
      ]
    },
    {
      "cell_type": "code",
      "execution_count": null,
      "metadata": {
        "colab": {
          "base_uri": "https://localhost:8080/",
          "height": 148,
          "referenced_widgets": [
            "8d3570b3333f42d2a606e2d91b7e5e2a",
            "4f66d4fa23da4b8d8dbe7ff2cee9d9b5",
            "acf92c40eb264b9ab75d13eb9bc60911",
            "a203447110614375a43b02cd8034b839",
            "ebf3063bd5874db2a842c94e85ae4549",
            "eaedfe68091b4374993aafcedb824f88",
            "12d0826778724bc49bd0fd39d5632a5d",
            "f8e0d76e0257483baa5e24e9d691e928",
            "7ff1c440864049388c4a1dbc592456fd",
            "a0d7d96e47c14eefbce93bd658d5e8b5",
            "b4c830b12e17429981d4f6e7c0ead43c",
            "351365761e5f404880343e0c6b15bd66",
            "71920fd48aa941cdbec950af3cd0b54d",
            "e0591ebe47aa42f3b6bda58c48fd50ae",
            "b67734b1b0ab4458959647d2c6b6bba7",
            "2af28c0672574027aaebda414e38f5b5",
            "0c045762a680472492409aff22f0f833",
            "6ed773110b0147fd847d4668f4f892eb",
            "27f9572964aa4e69a3ec3b25786adc16",
            "27da0680d4af406cb844a4e9295880c5",
            "2152840e1d4e41ecbd8efe660413e26e",
            "656e01ddea294c60bf61b42fcab7b2be",
            "384625044325428a90f5130b1a63ca29",
            "006a515c838c4a25bd40f3c279776885",
            "9be67077de614016a27230748337dd47",
            "eb67388e811a43978cfc86097abf7b82",
            "0a9a88b6064d4690a1fdf9d6dff08b44",
            "68de1dce5aff493fa74020bbee8fb5d0",
            "041270eae0d346958846f05ae7925a2f",
            "4fbd19f980fc4edbb62ec4c70f196761",
            "cf5ce32ad38d401ebb9bc4792e6e65a4",
            "22794aeef9a448e5bbb72c1bb641fceb",
            "aa9ccc67e518467788c9833c10b2d805"
          ]
        },
        "editable": false,
        "execution": {
          "iopub.execute_input": "2021-03-29T07:21:58.358267Z",
          "iopub.status.busy": "2021-03-29T07:21:58.357424Z",
          "iopub.status.idle": "2021-03-29T12:08:44.805764Z",
          "shell.execute_reply": "2021-03-29T12:08:44.806198Z"
        },
        "id": "ihHxVbJoCQy7",
        "outputId": "12357a29-03df-47ea-83d5-972c72063920",
        "papermill": {
          "duration": 17206.509309,
          "end_time": "2021-03-29T12:08:44.806363",
          "exception": false,
          "start_time": "2021-03-29T07:21:58.297054",
          "status": "completed"
        },
        "tags": []
      },
      "outputs": [
        {
          "name": "stderr",
          "output_type": "stream",
          "text": [
            "d:\\Semester 10\\NLP\\project\\newnlproj\\nlp\\lib\\site-packages\\huggingface_hub\\file_download.py:1132: FutureWarning: `resume_download` is deprecated and will be removed in version 1.0.0. Downloads always resume when possible. If you want to force a new download, use `force_download=True`.\n",
            "  warnings.warn(\n",
            "d:\\Semester 10\\NLP\\project\\newnlproj\\nlp\\lib\\site-packages\\huggingface_hub\\file_download.py:157: UserWarning: `huggingface_hub` cache-system uses symlinks by default to efficiently store duplicated files but your machine does not support them in C:\\Users\\Omen\\.cache\\huggingface\\hub\\models--t5-small. Caching files will still work but in a degraded version that might require more space on your disk. This warning can be disabled by setting the `HF_HUB_DISABLE_SYMLINKS_WARNING` environment variable. For more details, see https://huggingface.co/docs/huggingface_hub/how-to-cache#limitations.\n",
            "To support symlinks on Windows, you either need to activate Developer Mode or to run Python as an administrator. In order to see activate developer mode, see this article: https://docs.microsoft.com/en-us/windows/apps/get-started/enable-your-device-for-development\n",
            "  warnings.warn(message)\n",
            "You are using the default legacy behaviour of the <class 'transformers.models.t5.tokenization_t5.T5Tokenizer'>. This is expected, and simply means that the `legacy` (previous) behavior will be used so nothing changes for you. If you want to use the new behaviour, set `legacy=False`. This should only be set if you understand what it means, and thoroughly read the reason why this was added as explained in https://github.com/huggingface/transformers/pull/24565\n",
            "Special tokens have been added in the vocabulary, make sure the associated word embeddings are fine-tuned or trained.\n",
            "  0%|          | 0/2666 [00:00<?, ?it/s]d:\\Semester 10\\NLP\\project\\newnlproj\\nlp\\lib\\site-packages\\transformers\\tokenization_utils_base.py:4072: FutureWarning: \n",
            "`prepare_seq2seq_batch` is deprecated and will be removed in version 5 of HuggingFace Transformers. Use the regular\n",
            "`__call__` method to prepare your inputs and targets.\n",
            "\n",
            "Here is a short example:\n",
            "\n",
            "model_inputs = tokenizer(src_texts, text_target=tgt_texts, ...)\n",
            "\n",
            "If you either need to use different keyword arguments for the source and target texts, you should do two calls like\n",
            "this:\n",
            "\n",
            "model_inputs = tokenizer(src_texts, ...)\n",
            "labels = tokenizer(text_target=tgt_texts, ...)\n",
            "model_inputs[\"labels\"] = labels[\"input_ids\"]\n",
            "\n",
            "See the documentation of your specific tokenizer for more details on the specific arguments to the tokenizer of choice.\n",
            "For a more complete example, see the implementation of `prepare_seq2seq_batch`.\n",
            "\n",
            "  warnings.warn(formatted_warning, FutureWarning)\n",
            "d:\\Semester 10\\NLP\\project\\newnlproj\\nlp\\lib\\site-packages\\transformers\\tokenization_utils_base.py:3946: UserWarning: `as_target_tokenizer` is deprecated and will be removed in v5 of Transformers. You can tokenize your labels by using the argument `text_target` of the regular `__call__` method (either in the same call as your input texts if you use the same keyword arguments, or in a separate call.\n",
            "  warnings.warn(\n",
            "100%|██████████| 2666/2666 [00:25<00:00, 102.76it/s]\n"
          ]
        },
        {
          "name": "stdout",
          "output_type": "stream",
          "text": [
            "Using Adafactor for T5\n"
          ]
        },
        {
          "name": "stderr",
          "output_type": "stream",
          "text": [
            "Epochs 0/2. Running Loss:    2.1506: 100%|██████████| 334/334 [1:19:24<00:00, 14.26s/it]\n",
            "100%|██████████| 667/667 [00:05<00:00, 131.83it/s]\n",
            "Epochs 1/2. Running Loss:    2.3755: 100%|██████████| 334/334 [1:11:11<00:00, 12.79s/it]\n",
            "d:\\Semester 10\\NLP\\project\\newnlproj\\nlp\\lib\\site-packages\\transformers\\tokenization_utils_base.py:4072: FutureWarning: \n",
            "`prepare_seq2seq_batch` is deprecated and will be removed in version 5 of HuggingFace Transformers. Use the regular\n",
            "`__call__` method to prepare your inputs and targets.\n",
            "\n",
            "Here is a short example:\n",
            "\n",
            "model_inputs = tokenizer(src_texts, text_target=tgt_texts, ...)\n",
            "\n",
            "If you either need to use different keyword arguments for the source and target texts, you should do two calls like\n",
            "this:\n",
            "\n",
            "model_inputs = tokenizer(src_texts, ...)\n",
            "labels = tokenizer(text_target=tgt_texts, ...)\n",
            "model_inputs[\"labels\"] = labels[\"input_ids\"]\n",
            "\n",
            "See the documentation of your specific tokenizer for more details on the specific arguments to the tokenizer of choice.\n",
            "For a more complete example, see the implementation of `prepare_seq2seq_batch`.\n",
            "\n",
            "  warnings.warn(formatted_warning, FutureWarning)\n",
            "d:\\Semester 10\\NLP\\project\\newnlproj\\nlp\\lib\\site-packages\\transformers\\tokenization_utils_base.py:3946: UserWarning: `as_target_tokenizer` is deprecated and will be removed in v5 of Transformers. You can tokenize your labels by using the argument `text_target` of the regular `__call__` method (either in the same call as your input texts if you use the same keyword arguments, or in a separate call.\n",
            "  warnings.warn(\n",
            "100%|██████████| 667/667 [00:04<00:00, 141.38it/s]\n",
            "Epoch 2 of 2: 100%|██████████| 2/2 [2:44:53<00:00, 4946.76s/it]  \n"
          ]
        },
        {
          "data": {
            "text/plain": [
              "413"
            ]
          },
          "execution_count": 19,
          "metadata": {},
          "output_type": "execute_result"
        }
      ],
      "source": [
        "train_params = {\n",
        "    'max_seq_length': 512,\n",
        "    'max_length': 128,\n",
        "    'train_batch_size': 8,\n",
        "    'eval_batch_size': 8,\n",
        "    'num_train_epochs': 2,\n",
        "    'evaluate_during_training': True,\n",
        "    'evaluate_during_training_steps': 10000,\n",
        "    'use_multiprocessing': False,\n",
        "    'fp16': False,\n",
        "    'save_steps': -1,\n",
        "    'save_eval_checkpoints': False,\n",
        "    'save_model_every_epoch': False,\n",
        "    'no_cache': True,\n",
        "    'reprocess_input_data': True,\n",
        "    'overwrite_output_dir': True,\n",
        "    'preprocess_inputs': False,\n",
        "    'num_return_sequences': 1\n",
        "}\n",
        "\n",
        "model = T5Model('t5', 't5-small', args=train_params, use_cuda=cuda)\n",
        "model.train_model(train, eval_data=valid)\n",
        "gc.collect()"
      ]
    },
    {
      "cell_type": "code",
      "execution_count": null,
      "metadata": {
        "id": "Bk181OqUb7QW"
      },
      "outputs": [],
      "source": [
        "# Save the model\n",
        "model.save_model(\"SavedModel\")"
      ]
    },
    {
      "cell_type": "markdown",
      "metadata": {
        "editable": false,
        "id": "77nd-fKcCQy8",
        "papermill": {
          "duration": 0.113956,
          "end_time": "2021-03-29T12:08:45.45842",
          "exception": false,
          "start_time": "2021-03-29T12:08:45.344464",
          "status": "completed"
        },
        "tags": []
      },
      "source": [
        "### Predict"
      ]
    },
    {
      "cell_type": "code",
      "execution_count": null,
      "metadata": {
        "editable": false,
        "execution": {
          "iopub.execute_input": "2021-03-29T12:08:45.638325Z",
          "iopub.status.busy": "2021-03-29T12:08:45.637575Z",
          "iopub.status.idle": "2021-03-29T12:27:13.655486Z",
          "shell.execute_reply": "2021-03-29T12:27:13.655905Z"
        },
        "id": "EQmkXIpACQy8",
        "papermill": {
          "duration": 1108.105581,
          "end_time": "2021-03-29T12:27:13.656117",
          "exception": false,
          "start_time": "2021-03-29T12:08:45.550536",
          "status": "completed"
        },
        "tags": [],
        "outputId": "a0aa25c1-5006-4f01-d505-63203b6a9d1c"
      },
      "outputs": [
        {
          "name": "stderr",
          "output_type": "stream",
          "text": [
            "Special tokens have been added in the vocabulary, make sure the associated word embeddings are fine-tuned or trained.\n",
            "Generating outputs:   0%|          | 0/105 [00:00<?, ?it/s]d:\\Semester 10\\NLP\\project\\newnlproj\\nlp\\lib\\site-packages\\transformers\\tokenization_utils_base.py:4072: FutureWarning: \n",
            "`prepare_seq2seq_batch` is deprecated and will be removed in version 5 of HuggingFace Transformers. Use the regular\n",
            "`__call__` method to prepare your inputs and targets.\n",
            "\n",
            "Here is a short example:\n",
            "\n",
            "model_inputs = tokenizer(src_texts, text_target=tgt_texts, ...)\n",
            "\n",
            "If you either need to use different keyword arguments for the source and target texts, you should do two calls like\n",
            "this:\n",
            "\n",
            "model_inputs = tokenizer(src_texts, ...)\n",
            "labels = tokenizer(text_target=tgt_texts, ...)\n",
            "model_inputs[\"labels\"] = labels[\"input_ids\"]\n",
            "\n",
            "See the documentation of your specific tokenizer for more details on the specific arguments to the tokenizer of choice.\n",
            "For a more complete example, see the implementation of `prepare_seq2seq_batch`.\n",
            "\n",
            "  warnings.warn(formatted_warning, FutureWarning)\n",
            "d:\\Semester 10\\NLP\\project\\newnlproj\\nlp\\lib\\site-packages\\transformers\\generation\\configuration_utils.py:563: UserWarning: `num_beams` is set to 1. However, `early_stopping` is set to `True` -- this flag is only used in beam-based generation modes. You should set `num_beams>1` or unset `early_stopping`.\n",
            "  warnings.warn(\n",
            "d:\\Semester 10\\NLP\\project\\newnlproj\\nlp\\lib\\site-packages\\transformers\\generation\\configuration_utils.py:582: UserWarning: `num_beams` is set to 1. However, `length_penalty` is set to `2.0` -- this flag is only used in beam-based generation modes. You should set `num_beams>1` or unset `length_penalty`.\n",
            "  warnings.warn(\n",
            "Generating outputs: 100%|██████████| 105/105 [12:29<00:00,  7.14s/it]\n"
          ]
        }
      ],
      "source": [
        "pred_params = {\n",
        "        'max_seq_length': 512,\n",
        "        'use_multiprocessed_decoding': False\n",
        "        }\n",
        "\n",
        "model = T5Model('t5', 'outputs/best_model', args=pred_params, use_cuda=cuda)\n",
        "pred = model.predict(list(test['input_text']))"
      ]
    },
    {
      "cell_type": "code",
      "execution_count": null,
      "metadata": {
        "id": "uGu4xTjNb7QX",
        "outputId": "5b70576f-50b4-49a1-e14f-0cf5078e0582"
      },
      "outputs": [
        {
          "name": "stdout",
          "output_type": "stream",
          "text": [
            "Saved files: ['added_tokens.json', 'config.json', 'generation_config.json', 'model.safetensors', 'special_tokens_map.json', 'spiece.model', 'tokenizer_config.json']\n"
          ]
        }
      ],
      "source": [
        "import os\n",
        "# Save the model and tokenizer explicitly\n",
        "model.model.save_pretrained(\"saved_model\")\n",
        "model.tokenizer.save_pretrained(\"saved_model\")\n",
        "\n",
        "# Verify saved files\n",
        "print(\"Saved files:\", os.listdir(\"saved_model\"))"
      ]
    },
    {
      "cell_type": "code",
      "execution_count": null,
      "metadata": {
        "id": "sSyURL4wb7QX",
        "outputId": "43c1ce6c-c515-4b54-fed9-a57cfa48c638"
      },
      "outputs": [
        {
          "name": "stderr",
          "output_type": "stream",
          "text": [
            "Special tokens have been added in the vocabulary, make sure the associated word embeddings are fine-tuned or trained.\n",
            "Generating outputs:   0%|          | 0/105 [00:00<?, ?it/s]d:\\Semester 10\\NLP\\project\\newnlproj\\nlp\\lib\\site-packages\\transformers\\tokenization_utils_base.py:4072: FutureWarning: \n",
            "`prepare_seq2seq_batch` is deprecated and will be removed in version 5 of HuggingFace Transformers. Use the regular\n",
            "`__call__` method to prepare your inputs and targets.\n",
            "\n",
            "Here is a short example:\n",
            "\n",
            "model_inputs = tokenizer(src_texts, text_target=tgt_texts, ...)\n",
            "\n",
            "If you either need to use different keyword arguments for the source and target texts, you should do two calls like\n",
            "this:\n",
            "\n",
            "model_inputs = tokenizer(src_texts, ...)\n",
            "labels = tokenizer(text_target=tgt_texts, ...)\n",
            "model_inputs[\"labels\"] = labels[\"input_ids\"]\n",
            "\n",
            "See the documentation of your specific tokenizer for more details on the specific arguments to the tokenizer of choice.\n",
            "For a more complete example, see the implementation of `prepare_seq2seq_batch`.\n",
            "\n",
            "  warnings.warn(formatted_warning, FutureWarning)\n",
            "d:\\Semester 10\\NLP\\project\\newnlproj\\nlp\\lib\\site-packages\\transformers\\generation\\configuration_utils.py:563: UserWarning: `num_beams` is set to 1. However, `early_stopping` is set to `True` -- this flag is only used in beam-based generation modes. You should set `num_beams>1` or unset `early_stopping`.\n",
            "  warnings.warn(\n",
            "d:\\Semester 10\\NLP\\project\\newnlproj\\nlp\\lib\\site-packages\\transformers\\generation\\configuration_utils.py:582: UserWarning: `num_beams` is set to 1. However, `length_penalty` is set to `2.0` -- this flag is only used in beam-based generation modes. You should set `num_beams>1` or unset `length_penalty`.\n",
            "  warnings.warn(\n",
            "Generating outputs: 100%|██████████| 105/105 [04:06<00:00,  2.35s/it]\n"
          ]
        }
      ],
      "source": [
        "# Load the model from the 'saved_model' directory\n",
        "modelLoaded = T5Model('t5', \"saved_model\", args=pred_params, use_cuda=cuda)\n",
        "predLoaded = modelLoaded.predict(list(test['input_text']))"
      ]
    },
    {
      "cell_type": "markdown",
      "metadata": {
        "editable": false,
        "id": "OLLLAveECQy8",
        "papermill": {
          "duration": 0.04891,
          "end_time": "2021-03-29T12:27:13.863764",
          "exception": false,
          "start_time": "2021-03-29T12:27:13.814854",
          "status": "completed"
        },
        "tags": []
      },
      "source": [
        "## Evaluation of the model <a class=\"anchor\" id=\"Evaluation-of-the-model\"></a>\n",
        "\n",
        "<!-- <img src=\"https://raw.githubusercontent.com/chakki-works/sumeval/master/doc/top.png\" style=\"height: 150px; width: 600px;  object-position: 0px;\"/> -->\n",
        "\n",
        "Evaluate the model performance with the [sumeval]'s Rouge score.\n",
        "\n",
        "[sumeval]: https://github.com/chakki-works/sumeval\n",
        "\n",
        "Rouge1: Evaluate the generated text in units of bi-grams.\n",
        "\n",
        "Rouge2: Evaluate the generated text in units of uni-grams.\n",
        "\n",
        "RougeL: Evaluate the match of the generated text sequence."
      ]
    },
    {
      "cell_type": "markdown",
      "metadata": {
        "id": "tgEKwDTzb7QY"
      },
      "source": [
        "ORG Text VS ORG summaries"
      ]
    },
    {
      "cell_type": "code",
      "execution_count": null,
      "metadata": {
        "id": "rS1AE-BVb7QY",
        "outputId": "f16f1f33-5b9a-4731-fbdd-0c4f08ecf03b"
      },
      "outputs": [
        {
          "data": {
            "text/plain": [
              "{'Rouge_1': 0.1569710241656346,\n",
              " 'Rouge_2': 0.07369900847764918,\n",
              " 'Rouge_L': 0.10276240757247822}"
            ]
          },
          "execution_count": 81,
          "metadata": {},
          "output_type": "execute_result"
        }
      ],
      "source": [
        "rouge = RougeCalculator(stopwords=True, lang=\"en\")\n",
        "target_text_list = test[\"target_text\"].tolist()\n",
        "\n",
        "def rouge_calc(preds, targets):\n",
        "    rouge_1 = [rouge.rouge_n(summary=preds[i],references=targets[i],n=1) for i in range(len(preds))]\n",
        "    rouge_2 = [rouge.rouge_n(summary=preds[i],references=targets[i],n=2) for i in range(len(preds))]\n",
        "    rouge_l = [rouge.rouge_l(summary=preds[i],references=targets[i]) for i in range(len(preds))]\n",
        "\n",
        "    return {\"Rouge_1\": np.array(rouge_1).mean(),\n",
        "            \"Rouge_2\": np.array(rouge_2).mean(),\n",
        "            \"Rouge_L\": np.array(rouge_l).mean()}\n",
        "rouge_calc(target_text_list, list(test['input_text']))"
      ]
    },
    {
      "cell_type": "markdown",
      "metadata": {
        "id": "27BAdScTb7QY"
      },
      "source": [
        "ORG Text VS predicted summaries"
      ]
    },
    {
      "cell_type": "code",
      "execution_count": null,
      "metadata": {
        "id": "PJ07VOGWb7QY",
        "outputId": "2acc68b9-fa0d-499b-e1f6-dd8a93fa289e"
      },
      "outputs": [
        {
          "data": {
            "text/plain": [
              "{'Rouge_1': 0.035533593614212496,\n",
              " 'Rouge_2': 0.016312304179078196,\n",
              " 'Rouge_L': 0.03333874052173706}"
            ]
          },
          "execution_count": 82,
          "metadata": {},
          "output_type": "execute_result"
        }
      ],
      "source": [
        "\n",
        "rouge_calc(predLoaded, list(test['input_text']))"
      ]
    },
    {
      "cell_type": "markdown",
      "metadata": {
        "id": "HLiQ3WPCb7QY"
      },
      "source": [
        "ORG text VS T5 prediction without training"
      ]
    },
    {
      "cell_type": "code",
      "execution_count": null,
      "metadata": {
        "id": "tEcgsMd8b7QZ",
        "outputId": "eb22ee7d-f7e0-4bb0-d699-85d0aa16a2e1"
      },
      "outputs": [
        {
          "name": "stderr",
          "output_type": "stream",
          "text": [
            "Special tokens have been added in the vocabulary, make sure the associated word embeddings are fine-tuned or trained.\n"
          ]
        }
      ],
      "source": [
        "from transformers import T5ForConditionalGeneration, T5Tokenizer\n",
        "import pandas as pd\n",
        "\n",
        "# Load pre-trained T5 model and tokenizer\n",
        "model_name = \"t5-base\"\n",
        "tokenizer = T5Tokenizer.from_pretrained(model_name)\n",
        "model = T5ForConditionalGeneration.from_pretrained(model_name)\n",
        "\n",
        "# Assuming test is your DataFrame and \"input_text\" is the column containing input texts\n",
        "input_texts = test[\"input_text\"].tolist()\n",
        "\n",
        "# Function to generate summaries using T5 model\n",
        "def generate_summary(text):\n",
        "    input_ids = tokenizer.encode(\"summarize: \" + text, return_tensors=\"pt\", max_length=512, truncation=True)\n",
        "    summary_ids = model.generate(input_ids, num_beams=4, min_length=30, max_length=150, early_stopping=True)\n",
        "    summary = tokenizer.decode(summary_ids[0], skip_special_tokens=True)\n",
        "    return summary\n",
        "\n",
        "# Generate summaries for input texts\n",
        "summaries = [generate_summary(test) for test in input_texts]\n",
        "\n",
        "# Add the generated summaries to the DataFrame\n",
        "test[\"summary\"] = summaries\n",
        "t5Predict = test[\"summary\"].tolist()\n",
        "\n",
        "rouge = RougeCalculator(stopwords=True, lang=\"en\")\n",
        "\n",
        "rouge_calc(t5Predict, list(test['input_text']))"
      ]
    },
    {
      "cell_type": "code",
      "execution_count": null,
      "metadata": {
        "id": "3x_Qs2dIb7QZ"
      },
      "outputs": [],
      "source": []
    }
  ],
  "metadata": {
    "colab": {
      "provenance": [],
      "include_colab_link": true
    },
    "kaggle": {
      "accelerator": "gpu",
      "dataSources": [
        {
          "datasetId": 1895,
          "sourceId": 791838,
          "sourceType": "datasetVersion"
        }
      ],
      "dockerImageVersionId": 30075,
      "isGpuEnabled": true,
      "isInternetEnabled": false,
      "language": "python",
      "sourceType": "notebook"
    },
    "kernelspec": {
      "display_name": "Python 3",
      "language": "python",
      "name": "python3"
    },
    "language_info": {
      "codemirror_mode": {
        "name": "ipython",
        "version": 3
      },
      "file_extension": ".py",
      "mimetype": "text/x-python",
      "name": "python",
      "nbconvert_exporter": "python",
      "pygments_lexer": "ipython3",
      "version": "3.10.11"
    },
    "widgets": {
      "application/vnd.jupyter.widget-state+json": {
        "006a515c838c4a25bd40f3c279776885": {
          "model_module": "@jupyter-widgets/controls",
          "model_module_version": "1.5.0",
          "model_name": "HTMLModel",
          "state": {
            "_dom_classes": [],
            "_model_module": "@jupyter-widgets/controls",
            "_model_module_version": "1.5.0",
            "_model_name": "HTMLModel",
            "_view_count": null,
            "_view_module": "@jupyter-widgets/controls",
            "_view_module_version": "1.5.0",
            "_view_name": "HTMLView",
            "description": "",
            "description_tooltip": null,
            "layout": "IPY_MODEL_68de1dce5aff493fa74020bbee8fb5d0",
            "placeholder": "​",
            "style": "IPY_MODEL_041270eae0d346958846f05ae7925a2f",
            "value": "Epochs 0/2. Running Loss:    4.3025:   0%"
          }
        },
        "041270eae0d346958846f05ae7925a2f": {
          "model_module": "@jupyter-widgets/controls",
          "model_module_version": "1.5.0",
          "model_name": "DescriptionStyleModel",
          "state": {
            "_model_module": "@jupyter-widgets/controls",
            "_model_module_version": "1.5.0",
            "_model_name": "DescriptionStyleModel",
            "_view_count": null,
            "_view_module": "@jupyter-widgets/base",
            "_view_module_version": "1.2.0",
            "_view_name": "StyleView",
            "description_width": ""
          }
        },
        "0a9a88b6064d4690a1fdf9d6dff08b44": {
          "model_module": "@jupyter-widgets/base",
          "model_module_version": "1.2.0",
          "model_name": "LayoutModel",
          "state": {
            "_model_module": "@jupyter-widgets/base",
            "_model_module_version": "1.2.0",
            "_model_name": "LayoutModel",
            "_view_count": null,
            "_view_module": "@jupyter-widgets/base",
            "_view_module_version": "1.2.0",
            "_view_name": "LayoutView",
            "align_content": null,
            "align_items": null,
            "align_self": null,
            "border": null,
            "bottom": null,
            "display": null,
            "flex": null,
            "flex_flow": null,
            "grid_area": null,
            "grid_auto_columns": null,
            "grid_auto_flow": null,
            "grid_auto_rows": null,
            "grid_column": null,
            "grid_gap": null,
            "grid_row": null,
            "grid_template_areas": null,
            "grid_template_columns": null,
            "grid_template_rows": null,
            "height": null,
            "justify_content": null,
            "justify_items": null,
            "left": null,
            "margin": null,
            "max_height": null,
            "max_width": null,
            "min_height": null,
            "min_width": null,
            "object_fit": null,
            "object_position": null,
            "order": null,
            "overflow": null,
            "overflow_x": null,
            "overflow_y": null,
            "padding": null,
            "right": null,
            "top": null,
            "visibility": null,
            "width": null
          }
        },
        "0c045762a680472492409aff22f0f833": {
          "model_module": "@jupyter-widgets/base",
          "model_module_version": "1.2.0",
          "model_name": "LayoutModel",
          "state": {
            "_model_module": "@jupyter-widgets/base",
            "_model_module_version": "1.2.0",
            "_model_name": "LayoutModel",
            "_view_count": null,
            "_view_module": "@jupyter-widgets/base",
            "_view_module_version": "1.2.0",
            "_view_name": "LayoutView",
            "align_content": null,
            "align_items": null,
            "align_self": null,
            "border": null,
            "bottom": null,
            "display": null,
            "flex": null,
            "flex_flow": null,
            "grid_area": null,
            "grid_auto_columns": null,
            "grid_auto_flow": null,
            "grid_auto_rows": null,
            "grid_column": null,
            "grid_gap": null,
            "grid_row": null,
            "grid_template_areas": null,
            "grid_template_columns": null,
            "grid_template_rows": null,
            "height": null,
            "justify_content": null,
            "justify_items": null,
            "left": null,
            "margin": null,
            "max_height": null,
            "max_width": null,
            "min_height": null,
            "min_width": null,
            "object_fit": null,
            "object_position": null,
            "order": null,
            "overflow": null,
            "overflow_x": null,
            "overflow_y": null,
            "padding": null,
            "right": null,
            "top": null,
            "visibility": null,
            "width": null
          }
        },
        "12d0826778724bc49bd0fd39d5632a5d": {
          "model_module": "@jupyter-widgets/controls",
          "model_module_version": "1.5.0",
          "model_name": "DescriptionStyleModel",
          "state": {
            "_model_module": "@jupyter-widgets/controls",
            "_model_module_version": "1.5.0",
            "_model_name": "DescriptionStyleModel",
            "_view_count": null,
            "_view_module": "@jupyter-widgets/base",
            "_view_module_version": "1.2.0",
            "_view_name": "StyleView",
            "description_width": ""
          }
        },
        "2152840e1d4e41ecbd8efe660413e26e": {
          "model_module": "@jupyter-widgets/base",
          "model_module_version": "1.2.0",
          "model_name": "LayoutModel",
          "state": {
            "_model_module": "@jupyter-widgets/base",
            "_model_module_version": "1.2.0",
            "_model_name": "LayoutModel",
            "_view_count": null,
            "_view_module": "@jupyter-widgets/base",
            "_view_module_version": "1.2.0",
            "_view_name": "LayoutView",
            "align_content": null,
            "align_items": null,
            "align_self": null,
            "border": null,
            "bottom": null,
            "display": null,
            "flex": null,
            "flex_flow": null,
            "grid_area": null,
            "grid_auto_columns": null,
            "grid_auto_flow": null,
            "grid_auto_rows": null,
            "grid_column": null,
            "grid_gap": null,
            "grid_row": null,
            "grid_template_areas": null,
            "grid_template_columns": null,
            "grid_template_rows": null,
            "height": null,
            "justify_content": null,
            "justify_items": null,
            "left": null,
            "margin": null,
            "max_height": null,
            "max_width": null,
            "min_height": null,
            "min_width": null,
            "object_fit": null,
            "object_position": null,
            "order": null,
            "overflow": null,
            "overflow_x": null,
            "overflow_y": null,
            "padding": null,
            "right": null,
            "top": null,
            "visibility": null,
            "width": null
          }
        },
        "22794aeef9a448e5bbb72c1bb641fceb": {
          "model_module": "@jupyter-widgets/base",
          "model_module_version": "1.2.0",
          "model_name": "LayoutModel",
          "state": {
            "_model_module": "@jupyter-widgets/base",
            "_model_module_version": "1.2.0",
            "_model_name": "LayoutModel",
            "_view_count": null,
            "_view_module": "@jupyter-widgets/base",
            "_view_module_version": "1.2.0",
            "_view_name": "LayoutView",
            "align_content": null,
            "align_items": null,
            "align_self": null,
            "border": null,
            "bottom": null,
            "display": null,
            "flex": null,
            "flex_flow": null,
            "grid_area": null,
            "grid_auto_columns": null,
            "grid_auto_flow": null,
            "grid_auto_rows": null,
            "grid_column": null,
            "grid_gap": null,
            "grid_row": null,
            "grid_template_areas": null,
            "grid_template_columns": null,
            "grid_template_rows": null,
            "height": null,
            "justify_content": null,
            "justify_items": null,
            "left": null,
            "margin": null,
            "max_height": null,
            "max_width": null,
            "min_height": null,
            "min_width": null,
            "object_fit": null,
            "object_position": null,
            "order": null,
            "overflow": null,
            "overflow_x": null,
            "overflow_y": null,
            "padding": null,
            "right": null,
            "top": null,
            "visibility": null,
            "width": null
          }
        },
        "27da0680d4af406cb844a4e9295880c5": {
          "model_module": "@jupyter-widgets/controls",
          "model_module_version": "1.5.0",
          "model_name": "ProgressStyleModel",
          "state": {
            "_model_module": "@jupyter-widgets/controls",
            "_model_module_version": "1.5.0",
            "_model_name": "ProgressStyleModel",
            "_view_count": null,
            "_view_module": "@jupyter-widgets/base",
            "_view_module_version": "1.2.0",
            "_view_name": "StyleView",
            "bar_color": null,
            "description_width": ""
          }
        },
        "27f9572964aa4e69a3ec3b25786adc16": {
          "model_module": "@jupyter-widgets/base",
          "model_module_version": "1.2.0",
          "model_name": "LayoutModel",
          "state": {
            "_model_module": "@jupyter-widgets/base",
            "_model_module_version": "1.2.0",
            "_model_name": "LayoutModel",
            "_view_count": null,
            "_view_module": "@jupyter-widgets/base",
            "_view_module_version": "1.2.0",
            "_view_name": "LayoutView",
            "align_content": null,
            "align_items": null,
            "align_self": null,
            "border": null,
            "bottom": null,
            "display": null,
            "flex": null,
            "flex_flow": null,
            "grid_area": null,
            "grid_auto_columns": null,
            "grid_auto_flow": null,
            "grid_auto_rows": null,
            "grid_column": null,
            "grid_gap": null,
            "grid_row": null,
            "grid_template_areas": null,
            "grid_template_columns": null,
            "grid_template_rows": null,
            "height": null,
            "justify_content": null,
            "justify_items": null,
            "left": null,
            "margin": null,
            "max_height": null,
            "max_width": null,
            "min_height": null,
            "min_width": null,
            "object_fit": null,
            "object_position": null,
            "order": null,
            "overflow": null,
            "overflow_x": null,
            "overflow_y": null,
            "padding": null,
            "right": null,
            "top": null,
            "visibility": null,
            "width": null
          }
        },
        "2af28c0672574027aaebda414e38f5b5": {
          "model_module": "@jupyter-widgets/base",
          "model_module_version": "1.2.0",
          "model_name": "LayoutModel",
          "state": {
            "_model_module": "@jupyter-widgets/base",
            "_model_module_version": "1.2.0",
            "_model_name": "LayoutModel",
            "_view_count": null,
            "_view_module": "@jupyter-widgets/base",
            "_view_module_version": "1.2.0",
            "_view_name": "LayoutView",
            "align_content": null,
            "align_items": null,
            "align_self": null,
            "border": null,
            "bottom": null,
            "display": null,
            "flex": null,
            "flex_flow": null,
            "grid_area": null,
            "grid_auto_columns": null,
            "grid_auto_flow": null,
            "grid_auto_rows": null,
            "grid_column": null,
            "grid_gap": null,
            "grid_row": null,
            "grid_template_areas": null,
            "grid_template_columns": null,
            "grid_template_rows": null,
            "height": null,
            "justify_content": null,
            "justify_items": null,
            "left": null,
            "margin": null,
            "max_height": null,
            "max_width": null,
            "min_height": null,
            "min_width": null,
            "object_fit": null,
            "object_position": null,
            "order": null,
            "overflow": null,
            "overflow_x": null,
            "overflow_y": null,
            "padding": null,
            "right": null,
            "top": null,
            "visibility": null,
            "width": null
          }
        },
        "351365761e5f404880343e0c6b15bd66": {
          "model_module": "@jupyter-widgets/controls",
          "model_module_version": "1.5.0",
          "model_name": "HBoxModel",
          "state": {
            "_dom_classes": [],
            "_model_module": "@jupyter-widgets/controls",
            "_model_module_version": "1.5.0",
            "_model_name": "HBoxModel",
            "_view_count": null,
            "_view_module": "@jupyter-widgets/controls",
            "_view_module_version": "1.5.0",
            "_view_name": "HBoxView",
            "box_style": "",
            "children": [
              "IPY_MODEL_71920fd48aa941cdbec950af3cd0b54d",
              "IPY_MODEL_e0591ebe47aa42f3b6bda58c48fd50ae",
              "IPY_MODEL_b67734b1b0ab4458959647d2c6b6bba7"
            ],
            "layout": "IPY_MODEL_2af28c0672574027aaebda414e38f5b5"
          }
        },
        "384625044325428a90f5130b1a63ca29": {
          "model_module": "@jupyter-widgets/controls",
          "model_module_version": "1.5.0",
          "model_name": "HBoxModel",
          "state": {
            "_dom_classes": [],
            "_model_module": "@jupyter-widgets/controls",
            "_model_module_version": "1.5.0",
            "_model_name": "HBoxModel",
            "_view_count": null,
            "_view_module": "@jupyter-widgets/controls",
            "_view_module_version": "1.5.0",
            "_view_name": "HBoxView",
            "box_style": "",
            "children": [
              "IPY_MODEL_006a515c838c4a25bd40f3c279776885",
              "IPY_MODEL_9be67077de614016a27230748337dd47",
              "IPY_MODEL_eb67388e811a43978cfc86097abf7b82"
            ],
            "layout": "IPY_MODEL_0a9a88b6064d4690a1fdf9d6dff08b44"
          }
        },
        "4f66d4fa23da4b8d8dbe7ff2cee9d9b5": {
          "model_module": "@jupyter-widgets/controls",
          "model_module_version": "1.5.0",
          "model_name": "HTMLModel",
          "state": {
            "_dom_classes": [],
            "_model_module": "@jupyter-widgets/controls",
            "_model_module_version": "1.5.0",
            "_model_name": "HTMLModel",
            "_view_count": null,
            "_view_module": "@jupyter-widgets/controls",
            "_view_module_version": "1.5.0",
            "_view_name": "HTMLView",
            "description": "",
            "description_tooltip": null,
            "layout": "IPY_MODEL_eaedfe68091b4374993aafcedb824f88",
            "placeholder": "​",
            "style": "IPY_MODEL_12d0826778724bc49bd0fd39d5632a5d",
            "value": "100%"
          }
        },
        "4fbd19f980fc4edbb62ec4c70f196761": {
          "model_module": "@jupyter-widgets/base",
          "model_module_version": "1.2.0",
          "model_name": "LayoutModel",
          "state": {
            "_model_module": "@jupyter-widgets/base",
            "_model_module_version": "1.2.0",
            "_model_name": "LayoutModel",
            "_view_count": null,
            "_view_module": "@jupyter-widgets/base",
            "_view_module_version": "1.2.0",
            "_view_name": "LayoutView",
            "align_content": null,
            "align_items": null,
            "align_self": null,
            "border": null,
            "bottom": null,
            "display": null,
            "flex": null,
            "flex_flow": null,
            "grid_area": null,
            "grid_auto_columns": null,
            "grid_auto_flow": null,
            "grid_auto_rows": null,
            "grid_column": null,
            "grid_gap": null,
            "grid_row": null,
            "grid_template_areas": null,
            "grid_template_columns": null,
            "grid_template_rows": null,
            "height": null,
            "justify_content": null,
            "justify_items": null,
            "left": null,
            "margin": null,
            "max_height": null,
            "max_width": null,
            "min_height": null,
            "min_width": null,
            "object_fit": null,
            "object_position": null,
            "order": null,
            "overflow": null,
            "overflow_x": null,
            "overflow_y": null,
            "padding": null,
            "right": null,
            "top": null,
            "visibility": null,
            "width": null
          }
        },
        "656e01ddea294c60bf61b42fcab7b2be": {
          "model_module": "@jupyter-widgets/controls",
          "model_module_version": "1.5.0",
          "model_name": "DescriptionStyleModel",
          "state": {
            "_model_module": "@jupyter-widgets/controls",
            "_model_module_version": "1.5.0",
            "_model_name": "DescriptionStyleModel",
            "_view_count": null,
            "_view_module": "@jupyter-widgets/base",
            "_view_module_version": "1.2.0",
            "_view_name": "StyleView",
            "description_width": ""
          }
        },
        "68de1dce5aff493fa74020bbee8fb5d0": {
          "model_module": "@jupyter-widgets/base",
          "model_module_version": "1.2.0",
          "model_name": "LayoutModel",
          "state": {
            "_model_module": "@jupyter-widgets/base",
            "_model_module_version": "1.2.0",
            "_model_name": "LayoutModel",
            "_view_count": null,
            "_view_module": "@jupyter-widgets/base",
            "_view_module_version": "1.2.0",
            "_view_name": "LayoutView",
            "align_content": null,
            "align_items": null,
            "align_self": null,
            "border": null,
            "bottom": null,
            "display": null,
            "flex": null,
            "flex_flow": null,
            "grid_area": null,
            "grid_auto_columns": null,
            "grid_auto_flow": null,
            "grid_auto_rows": null,
            "grid_column": null,
            "grid_gap": null,
            "grid_row": null,
            "grid_template_areas": null,
            "grid_template_columns": null,
            "grid_template_rows": null,
            "height": null,
            "justify_content": null,
            "justify_items": null,
            "left": null,
            "margin": null,
            "max_height": null,
            "max_width": null,
            "min_height": null,
            "min_width": null,
            "object_fit": null,
            "object_position": null,
            "order": null,
            "overflow": null,
            "overflow_x": null,
            "overflow_y": null,
            "padding": null,
            "right": null,
            "top": null,
            "visibility": null,
            "width": null
          }
        },
        "6ed773110b0147fd847d4668f4f892eb": {
          "model_module": "@jupyter-widgets/controls",
          "model_module_version": "1.5.0",
          "model_name": "DescriptionStyleModel",
          "state": {
            "_model_module": "@jupyter-widgets/controls",
            "_model_module_version": "1.5.0",
            "_model_name": "DescriptionStyleModel",
            "_view_count": null,
            "_view_module": "@jupyter-widgets/base",
            "_view_module_version": "1.2.0",
            "_view_name": "StyleView",
            "description_width": ""
          }
        },
        "71920fd48aa941cdbec950af3cd0b54d": {
          "model_module": "@jupyter-widgets/controls",
          "model_module_version": "1.5.0",
          "model_name": "HTMLModel",
          "state": {
            "_dom_classes": [],
            "_model_module": "@jupyter-widgets/controls",
            "_model_module_version": "1.5.0",
            "_model_name": "HTMLModel",
            "_view_count": null,
            "_view_module": "@jupyter-widgets/controls",
            "_view_module_version": "1.5.0",
            "_view_name": "HTMLView",
            "description": "",
            "description_tooltip": null,
            "layout": "IPY_MODEL_0c045762a680472492409aff22f0f833",
            "placeholder": "​",
            "style": "IPY_MODEL_6ed773110b0147fd847d4668f4f892eb",
            "value": "Epoch 1 of 2:   0%"
          }
        },
        "7ff1c440864049388c4a1dbc592456fd": {
          "model_module": "@jupyter-widgets/controls",
          "model_module_version": "1.5.0",
          "model_name": "ProgressStyleModel",
          "state": {
            "_model_module": "@jupyter-widgets/controls",
            "_model_module_version": "1.5.0",
            "_model_name": "ProgressStyleModel",
            "_view_count": null,
            "_view_module": "@jupyter-widgets/base",
            "_view_module_version": "1.2.0",
            "_view_name": "StyleView",
            "bar_color": null,
            "description_width": ""
          }
        },
        "8d3570b3333f42d2a606e2d91b7e5e2a": {
          "model_module": "@jupyter-widgets/controls",
          "model_module_version": "1.5.0",
          "model_name": "HBoxModel",
          "state": {
            "_dom_classes": [],
            "_model_module": "@jupyter-widgets/controls",
            "_model_module_version": "1.5.0",
            "_model_name": "HBoxModel",
            "_view_count": null,
            "_view_module": "@jupyter-widgets/controls",
            "_view_module_version": "1.5.0",
            "_view_name": "HBoxView",
            "box_style": "",
            "children": [
              "IPY_MODEL_4f66d4fa23da4b8d8dbe7ff2cee9d9b5",
              "IPY_MODEL_acf92c40eb264b9ab75d13eb9bc60911",
              "IPY_MODEL_a203447110614375a43b02cd8034b839"
            ],
            "layout": "IPY_MODEL_ebf3063bd5874db2a842c94e85ae4549"
          }
        },
        "9be67077de614016a27230748337dd47": {
          "model_module": "@jupyter-widgets/controls",
          "model_module_version": "1.5.0",
          "model_name": "FloatProgressModel",
          "state": {
            "_dom_classes": [],
            "_model_module": "@jupyter-widgets/controls",
            "_model_module_version": "1.5.0",
            "_model_name": "FloatProgressModel",
            "_view_count": null,
            "_view_module": "@jupyter-widgets/controls",
            "_view_module_version": "1.5.0",
            "_view_name": "ProgressView",
            "bar_style": "",
            "description": "",
            "description_tooltip": null,
            "layout": "IPY_MODEL_4fbd19f980fc4edbb62ec4c70f196761",
            "max": 334,
            "min": 0,
            "orientation": "horizontal",
            "style": "IPY_MODEL_cf5ce32ad38d401ebb9bc4792e6e65a4",
            "value": 1
          }
        },
        "a0d7d96e47c14eefbce93bd658d5e8b5": {
          "model_module": "@jupyter-widgets/base",
          "model_module_version": "1.2.0",
          "model_name": "LayoutModel",
          "state": {
            "_model_module": "@jupyter-widgets/base",
            "_model_module_version": "1.2.0",
            "_model_name": "LayoutModel",
            "_view_count": null,
            "_view_module": "@jupyter-widgets/base",
            "_view_module_version": "1.2.0",
            "_view_name": "LayoutView",
            "align_content": null,
            "align_items": null,
            "align_self": null,
            "border": null,
            "bottom": null,
            "display": null,
            "flex": null,
            "flex_flow": null,
            "grid_area": null,
            "grid_auto_columns": null,
            "grid_auto_flow": null,
            "grid_auto_rows": null,
            "grid_column": null,
            "grid_gap": null,
            "grid_row": null,
            "grid_template_areas": null,
            "grid_template_columns": null,
            "grid_template_rows": null,
            "height": null,
            "justify_content": null,
            "justify_items": null,
            "left": null,
            "margin": null,
            "max_height": null,
            "max_width": null,
            "min_height": null,
            "min_width": null,
            "object_fit": null,
            "object_position": null,
            "order": null,
            "overflow": null,
            "overflow_x": null,
            "overflow_y": null,
            "padding": null,
            "right": null,
            "top": null,
            "visibility": null,
            "width": null
          }
        },
        "a203447110614375a43b02cd8034b839": {
          "model_module": "@jupyter-widgets/controls",
          "model_module_version": "1.5.0",
          "model_name": "HTMLModel",
          "state": {
            "_dom_classes": [],
            "_model_module": "@jupyter-widgets/controls",
            "_model_module_version": "1.5.0",
            "_model_name": "HTMLModel",
            "_view_count": null,
            "_view_module": "@jupyter-widgets/controls",
            "_view_module_version": "1.5.0",
            "_view_name": "HTMLView",
            "description": "",
            "description_tooltip": null,
            "layout": "IPY_MODEL_a0d7d96e47c14eefbce93bd658d5e8b5",
            "placeholder": "​",
            "style": "IPY_MODEL_b4c830b12e17429981d4f6e7c0ead43c",
            "value": " 2666/2666 [00:40&lt;00:00, 78.21it/s]"
          }
        },
        "aa9ccc67e518467788c9833c10b2d805": {
          "model_module": "@jupyter-widgets/controls",
          "model_module_version": "1.5.0",
          "model_name": "DescriptionStyleModel",
          "state": {
            "_model_module": "@jupyter-widgets/controls",
            "_model_module_version": "1.5.0",
            "_model_name": "DescriptionStyleModel",
            "_view_count": null,
            "_view_module": "@jupyter-widgets/base",
            "_view_module_version": "1.2.0",
            "_view_name": "StyleView",
            "description_width": ""
          }
        },
        "acf92c40eb264b9ab75d13eb9bc60911": {
          "model_module": "@jupyter-widgets/controls",
          "model_module_version": "1.5.0",
          "model_name": "FloatProgressModel",
          "state": {
            "_dom_classes": [],
            "_model_module": "@jupyter-widgets/controls",
            "_model_module_version": "1.5.0",
            "_model_name": "FloatProgressModel",
            "_view_count": null,
            "_view_module": "@jupyter-widgets/controls",
            "_view_module_version": "1.5.0",
            "_view_name": "ProgressView",
            "bar_style": "success",
            "description": "",
            "description_tooltip": null,
            "layout": "IPY_MODEL_f8e0d76e0257483baa5e24e9d691e928",
            "max": 2666,
            "min": 0,
            "orientation": "horizontal",
            "style": "IPY_MODEL_7ff1c440864049388c4a1dbc592456fd",
            "value": 2666
          }
        },
        "b4c830b12e17429981d4f6e7c0ead43c": {
          "model_module": "@jupyter-widgets/controls",
          "model_module_version": "1.5.0",
          "model_name": "DescriptionStyleModel",
          "state": {
            "_model_module": "@jupyter-widgets/controls",
            "_model_module_version": "1.5.0",
            "_model_name": "DescriptionStyleModel",
            "_view_count": null,
            "_view_module": "@jupyter-widgets/base",
            "_view_module_version": "1.2.0",
            "_view_name": "StyleView",
            "description_width": ""
          }
        },
        "b67734b1b0ab4458959647d2c6b6bba7": {
          "model_module": "@jupyter-widgets/controls",
          "model_module_version": "1.5.0",
          "model_name": "HTMLModel",
          "state": {
            "_dom_classes": [],
            "_model_module": "@jupyter-widgets/controls",
            "_model_module_version": "1.5.0",
            "_model_name": "HTMLModel",
            "_view_count": null,
            "_view_module": "@jupyter-widgets/controls",
            "_view_module_version": "1.5.0",
            "_view_name": "HTMLView",
            "description": "",
            "description_tooltip": null,
            "layout": "IPY_MODEL_2152840e1d4e41ecbd8efe660413e26e",
            "placeholder": "​",
            "style": "IPY_MODEL_656e01ddea294c60bf61b42fcab7b2be",
            "value": " 0/2 [00:00&lt;?, ?it/s]"
          }
        },
        "cf5ce32ad38d401ebb9bc4792e6e65a4": {
          "model_module": "@jupyter-widgets/controls",
          "model_module_version": "1.5.0",
          "model_name": "ProgressStyleModel",
          "state": {
            "_model_module": "@jupyter-widgets/controls",
            "_model_module_version": "1.5.0",
            "_model_name": "ProgressStyleModel",
            "_view_count": null,
            "_view_module": "@jupyter-widgets/base",
            "_view_module_version": "1.2.0",
            "_view_name": "StyleView",
            "bar_color": null,
            "description_width": ""
          }
        },
        "e0591ebe47aa42f3b6bda58c48fd50ae": {
          "model_module": "@jupyter-widgets/controls",
          "model_module_version": "1.5.0",
          "model_name": "FloatProgressModel",
          "state": {
            "_dom_classes": [],
            "_model_module": "@jupyter-widgets/controls",
            "_model_module_version": "1.5.0",
            "_model_name": "FloatProgressModel",
            "_view_count": null,
            "_view_module": "@jupyter-widgets/controls",
            "_view_module_version": "1.5.0",
            "_view_name": "ProgressView",
            "bar_style": "",
            "description": "",
            "description_tooltip": null,
            "layout": "IPY_MODEL_27f9572964aa4e69a3ec3b25786adc16",
            "max": 2,
            "min": 0,
            "orientation": "horizontal",
            "style": "IPY_MODEL_27da0680d4af406cb844a4e9295880c5",
            "value": 0
          }
        },
        "eaedfe68091b4374993aafcedb824f88": {
          "model_module": "@jupyter-widgets/base",
          "model_module_version": "1.2.0",
          "model_name": "LayoutModel",
          "state": {
            "_model_module": "@jupyter-widgets/base",
            "_model_module_version": "1.2.0",
            "_model_name": "LayoutModel",
            "_view_count": null,
            "_view_module": "@jupyter-widgets/base",
            "_view_module_version": "1.2.0",
            "_view_name": "LayoutView",
            "align_content": null,
            "align_items": null,
            "align_self": null,
            "border": null,
            "bottom": null,
            "display": null,
            "flex": null,
            "flex_flow": null,
            "grid_area": null,
            "grid_auto_columns": null,
            "grid_auto_flow": null,
            "grid_auto_rows": null,
            "grid_column": null,
            "grid_gap": null,
            "grid_row": null,
            "grid_template_areas": null,
            "grid_template_columns": null,
            "grid_template_rows": null,
            "height": null,
            "justify_content": null,
            "justify_items": null,
            "left": null,
            "margin": null,
            "max_height": null,
            "max_width": null,
            "min_height": null,
            "min_width": null,
            "object_fit": null,
            "object_position": null,
            "order": null,
            "overflow": null,
            "overflow_x": null,
            "overflow_y": null,
            "padding": null,
            "right": null,
            "top": null,
            "visibility": null,
            "width": null
          }
        },
        "eb67388e811a43978cfc86097abf7b82": {
          "model_module": "@jupyter-widgets/controls",
          "model_module_version": "1.5.0",
          "model_name": "HTMLModel",
          "state": {
            "_dom_classes": [],
            "_model_module": "@jupyter-widgets/controls",
            "_model_module_version": "1.5.0",
            "_model_name": "HTMLModel",
            "_view_count": null,
            "_view_module": "@jupyter-widgets/controls",
            "_view_module_version": "1.5.0",
            "_view_name": "HTMLView",
            "description": "",
            "description_tooltip": null,
            "layout": "IPY_MODEL_22794aeef9a448e5bbb72c1bb641fceb",
            "placeholder": "​",
            "style": "IPY_MODEL_aa9ccc67e518467788c9833c10b2d805",
            "value": " 1/334 [01:16&lt;5:20:41, 57.78s/it]"
          }
        },
        "ebf3063bd5874db2a842c94e85ae4549": {
          "model_module": "@jupyter-widgets/base",
          "model_module_version": "1.2.0",
          "model_name": "LayoutModel",
          "state": {
            "_model_module": "@jupyter-widgets/base",
            "_model_module_version": "1.2.0",
            "_model_name": "LayoutModel",
            "_view_count": null,
            "_view_module": "@jupyter-widgets/base",
            "_view_module_version": "1.2.0",
            "_view_name": "LayoutView",
            "align_content": null,
            "align_items": null,
            "align_self": null,
            "border": null,
            "bottom": null,
            "display": null,
            "flex": null,
            "flex_flow": null,
            "grid_area": null,
            "grid_auto_columns": null,
            "grid_auto_flow": null,
            "grid_auto_rows": null,
            "grid_column": null,
            "grid_gap": null,
            "grid_row": null,
            "grid_template_areas": null,
            "grid_template_columns": null,
            "grid_template_rows": null,
            "height": null,
            "justify_content": null,
            "justify_items": null,
            "left": null,
            "margin": null,
            "max_height": null,
            "max_width": null,
            "min_height": null,
            "min_width": null,
            "object_fit": null,
            "object_position": null,
            "order": null,
            "overflow": null,
            "overflow_x": null,
            "overflow_y": null,
            "padding": null,
            "right": null,
            "top": null,
            "visibility": null,
            "width": null
          }
        },
        "f8e0d76e0257483baa5e24e9d691e928": {
          "model_module": "@jupyter-widgets/base",
          "model_module_version": "1.2.0",
          "model_name": "LayoutModel",
          "state": {
            "_model_module": "@jupyter-widgets/base",
            "_model_module_version": "1.2.0",
            "_model_name": "LayoutModel",
            "_view_count": null,
            "_view_module": "@jupyter-widgets/base",
            "_view_module_version": "1.2.0",
            "_view_name": "LayoutView",
            "align_content": null,
            "align_items": null,
            "align_self": null,
            "border": null,
            "bottom": null,
            "display": null,
            "flex": null,
            "flex_flow": null,
            "grid_area": null,
            "grid_auto_columns": null,
            "grid_auto_flow": null,
            "grid_auto_rows": null,
            "grid_column": null,
            "grid_gap": null,
            "grid_row": null,
            "grid_template_areas": null,
            "grid_template_columns": null,
            "grid_template_rows": null,
            "height": null,
            "justify_content": null,
            "justify_items": null,
            "left": null,
            "margin": null,
            "max_height": null,
            "max_width": null,
            "min_height": null,
            "min_width": null,
            "object_fit": null,
            "object_position": null,
            "order": null,
            "overflow": null,
            "overflow_x": null,
            "overflow_y": null,
            "padding": null,
            "right": null,
            "top": null,
            "visibility": null,
            "width": null
          }
        }
      }
    }
  },
  "nbformat": 4,
  "nbformat_minor": 0
}